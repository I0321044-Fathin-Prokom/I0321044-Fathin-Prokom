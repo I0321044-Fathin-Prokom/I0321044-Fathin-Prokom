{
 "cells": [
  {
   "cell_type": "markdown",
   "metadata": {},
   "source": [
    "***\n",
    "<h1 align=\"center\">Exercise 11</h1>\n",
    " \n",
    "***\n",
    "## Membuat Modul\n",
    "Silakan perhatikan file **Geometri2D** di ./data. \n",
    "Kemudian buatlah kode seperti berikut:\n",
    "\n",
    "![](./images/11_Geometri2D.png)\n"
   ]
  },
  {
   "cell_type": "markdown",
   "metadata": {},
   "source": [
    "## Perintah Import \n",
    "Buatlah kode seperti berikut:\n",
    "\n",
    "![](./images/11_Import.png)\n",
    "\n",
    "Ubah variabel **p** dengan **3 digit nim terakhir kalian** dan variabel **l** dengan **tanggal kalian mengerjakan**."
   ]
  },
  {
   "cell_type": "code",
   "execution_count": 18,
   "metadata": {},
   "outputs": [
    {
     "ename": "ModuleNotFoundError",
     "evalue": "No module named 'data'",
     "output_type": "error",
     "traceback": [
      "\u001b[1;31m---------------------------------------------------------------------------\u001b[0m",
      "\u001b[1;31mModuleNotFoundError\u001b[0m                       Traceback (most recent call last)",
      "\u001b[1;32mc:\\Users\\USER\\Praktikum Prokom\\I0321044-Fathin-Prokom\\Exercise-11\\11_Modul_Paket.ipynb Cell 3'\u001b[0m in \u001b[0;36m<cell line: 2>\u001b[1;34m()\u001b[0m\n\u001b[0;32m      <a href='vscode-notebook-cell:/c%3A/Users/USER/Praktikum%20Prokom/I0321044-Fathin-Prokom/Exercise-11/11_Modul_Paket.ipynb#ch0000002?line=0'>1</a>\u001b[0m \u001b[39m# Kerjakan di sini\u001b[39;00m\n\u001b[1;32m----> <a href='vscode-notebook-cell:/c%3A/Users/USER/Praktikum%20Prokom/I0321044-Fathin-Prokom/Exercise-11/11_Modul_Paket.ipynb#ch0000002?line=1'>2</a>\u001b[0m \u001b[39mfrom\u001b[39;00m \u001b[39mdata\u001b[39;00m \u001b[39mimport\u001b[39;00m Geometri2D\n\u001b[0;32m      <a href='vscode-notebook-cell:/c%3A/Users/USER/Praktikum%20Prokom/I0321044-Fathin-Prokom/Exercise-11/11_Modul_Paket.ipynb#ch0000002?line=3'>4</a>\u001b[0m p \u001b[39m=\u001b[39m \u001b[39m44\u001b[39m\n\u001b[0;32m      <a href='vscode-notebook-cell:/c%3A/Users/USER/Praktikum%20Prokom/I0321044-Fathin-Prokom/Exercise-11/11_Modul_Paket.ipynb#ch0000002?line=4'>5</a>\u001b[0m l \u001b[39m=\u001b[39m \u001b[39m21\u001b[39m\n",
      "\u001b[1;31mModuleNotFoundError\u001b[0m: No module named 'data'"
     ]
    }
   ],
   "source": [
    "# Kerjakan di sini\n",
    "from data import Geometri2D\n",
    "\n",
    "p = 44\n",
    "l = 21\n",
    "\n",
    "luas = Geometri2D.LuasPersegiPanjang(p,l)\n",
    "kel = Geometri2D.KelilingPersegiPanjang(p,l)\n",
    "\n",
    "print(\"Persegi Panjang\")\n",
    "print(\"Panjang\\t\\t:\",p)\n",
    "print(\"Lebar\\t\\t:\",l)\n",
    "print(\"Luas\\t\\t:\",luas)\n",
    "print(\"Keliling\\t:\",kel)"
   ]
  },
  {
   "cell_type": "markdown",
   "metadata": {},
   "source": [
    "## Perintah From...Import \n",
    "Buatlah kode seperti berikut:\n",
    "\n",
    "![](./images/11_FromImport.png)\n",
    "\n",
    "Ubah variabel **p** dengan **3 digit nim terakhir kalian** dan variabel **l** dengan **tanggal kalian mengerjakan**."
   ]
  },
  {
   "cell_type": "code",
   "execution_count": 12,
   "metadata": {},
   "outputs": [
    {
     "ename": "ImportError",
     "evalue": "cannot import name 'LuasPersegiPanjang' from 'Data.Geometri2D' (c:\\Users\\USER\\Praktikum Prokom\\I0321044-Fathin-Prokom\\Exercise-11\\Data\\Geometri2D.py)",
     "output_type": "error",
     "traceback": [
      "\u001b[1;31m---------------------------------------------------------------------------\u001b[0m",
      "\u001b[1;31mImportError\u001b[0m                               Traceback (most recent call last)",
      "\u001b[1;32mc:\\Users\\USER\\Praktikum Prokom\\I0321044-Fathin-Prokom\\Exercise-11\\11_Modul_Paket.ipynb Cell 5'\u001b[0m in \u001b[0;36m<cell line: 2>\u001b[1;34m()\u001b[0m\n\u001b[0;32m      <a href='vscode-notebook-cell:/c%3A/Users/USER/Praktikum%20Prokom/I0321044-Fathin-Prokom/Exercise-11/11_Modul_Paket.ipynb#ch0000004?line=0'>1</a>\u001b[0m \u001b[39m# Kerjakan di sini\u001b[39;00m\n\u001b[1;32m----> <a href='vscode-notebook-cell:/c%3A/Users/USER/Praktikum%20Prokom/I0321044-Fathin-Prokom/Exercise-11/11_Modul_Paket.ipynb#ch0000004?line=1'>2</a>\u001b[0m \u001b[39mfrom\u001b[39;00m \u001b[39mData\u001b[39;00m\u001b[39m.\u001b[39;00m\u001b[39mGeometri2D\u001b[39;00m \u001b[39mimport\u001b[39;00m LuasPersegiPanjang\n\u001b[0;32m      <a href='vscode-notebook-cell:/c%3A/Users/USER/Praktikum%20Prokom/I0321044-Fathin-Prokom/Exercise-11/11_Modul_Paket.ipynb#ch0000004?line=3'>4</a>\u001b[0m p \u001b[39m=\u001b[39m \u001b[39m44\u001b[39m\n\u001b[0;32m      <a href='vscode-notebook-cell:/c%3A/Users/USER/Praktikum%20Prokom/I0321044-Fathin-Prokom/Exercise-11/11_Modul_Paket.ipynb#ch0000004?line=4'>5</a>\u001b[0m l \u001b[39m=\u001b[39m \u001b[39m21\u001b[39m\n",
      "\u001b[1;31mImportError\u001b[0m: cannot import name 'LuasPersegiPanjang' from 'Data.Geometri2D' (c:\\Users\\USER\\Praktikum Prokom\\I0321044-Fathin-Prokom\\Exercise-11\\Data\\Geometri2D.py)"
     ]
    }
   ],
   "source": [
    "# Kerjakan di sini\n",
    "from Data.Geometri2D import LuasPersegiPanjang\n",
    "\n",
    "p = 44\n",
    "l = 21\n",
    "\n",
    "luas = LuasPersegiPanjang(p,l)\n",
    "\n",
    "print(\"Persegi Panjang\")\n",
    "print(\"Panjang\\t:\",p)\n",
    "print(\"Lebar\\t:\",l)\n",
    "print(\"Luas\\t:\",luas)\n"
   ]
  },
  {
   "cell_type": "markdown",
   "metadata": {},
   "source": [
    "## Membuat Alias/Nama Lain Modul \n",
    "### 1. Nama Modul\n",
    "Buatlah kode seperti berikut:\n",
    "\n",
    "![](./images/11_Alias.png)\n",
    "\n",
    "Ubah variabel **p** dengan **3 digit nim terakhir kalian** dan variabel **l** dengan **tanggal kalian mengerjakan**."
   ]
  },
  {
   "cell_type": "code",
   "execution_count": null,
   "metadata": {},
   "outputs": [],
   "source": [
    "# Kerjakan di sini\n"
   ]
  },
  {
   "cell_type": "markdown",
   "metadata": {},
   "source": [
    "### 2. Nama Fungsi\n",
    "Buatlah kode seperti berikut:\n",
    "\n",
    "![](./images/11_Alias2.png)\n",
    "\n",
    "Ubah variabel **p** dengan **3 digit nim terakhir kalian** dan variabel **l** dengan **tanggal kalian mengerjakan**."
   ]
  },
  {
   "cell_type": "code",
   "execution_count": 20,
   "metadata": {},
   "outputs": [
    {
     "ename": "ImportError",
     "evalue": "cannot import name 'LuasPersegiPanjang' from 'Data.Geometri2D' (c:\\Users\\USER\\Praktikum Prokom\\I0321044-Fathin-Prokom\\Exercise-11\\Data\\Geometri2D.py)",
     "output_type": "error",
     "traceback": [
      "\u001b[1;31m---------------------------------------------------------------------------\u001b[0m",
      "\u001b[1;31mImportError\u001b[0m                               Traceback (most recent call last)",
      "\u001b[1;32mc:\\Users\\USER\\Praktikum Prokom\\I0321044-Fathin-Prokom\\Exercise-11\\11_Modul_Paket.ipynb Cell 9'\u001b[0m in \u001b[0;36m<cell line: 2>\u001b[1;34m()\u001b[0m\n\u001b[0;32m      <a href='vscode-notebook-cell:/c%3A/Users/USER/Praktikum%20Prokom/I0321044-Fathin-Prokom/Exercise-11/11_Modul_Paket.ipynb#ch0000008?line=0'>1</a>\u001b[0m \u001b[39m# Kerjakan di sini\u001b[39;00m\n\u001b[1;32m----> <a href='vscode-notebook-cell:/c%3A/Users/USER/Praktikum%20Prokom/I0321044-Fathin-Prokom/Exercise-11/11_Modul_Paket.ipynb#ch0000008?line=1'>2</a>\u001b[0m \u001b[39mfrom\u001b[39;00m \u001b[39mData\u001b[39;00m\u001b[39m.\u001b[39;00m\u001b[39mGeometri2D\u001b[39;00m \u001b[39mimport\u001b[39;00m LuasPersegiPanjang \u001b[39mas\u001b[39;00m LPP\n\u001b[0;32m      <a href='vscode-notebook-cell:/c%3A/Users/USER/Praktikum%20Prokom/I0321044-Fathin-Prokom/Exercise-11/11_Modul_Paket.ipynb#ch0000008?line=2'>3</a>\u001b[0m p \u001b[39m=\u001b[39m \u001b[39m44\u001b[39m\n\u001b[0;32m      <a href='vscode-notebook-cell:/c%3A/Users/USER/Praktikum%20Prokom/I0321044-Fathin-Prokom/Exercise-11/11_Modul_Paket.ipynb#ch0000008?line=3'>4</a>\u001b[0m l \u001b[39m=\u001b[39m \u001b[39m21\u001b[39m\n",
      "\u001b[1;31mImportError\u001b[0m: cannot import name 'LuasPersegiPanjang' from 'Data.Geometri2D' (c:\\Users\\USER\\Praktikum Prokom\\I0321044-Fathin-Prokom\\Exercise-11\\Data\\Geometri2D.py)"
     ]
    }
   ],
   "source": [
    "# Kerjakan di sini\n",
    "from Data.Geometri2D import LuasPersegiPanjang as LPP\n",
    "p = 44\n",
    "l = 21\n",
    "\n",
    "luas = LPP(p,l)\n",
    "\n",
    "print(\"Persegi Panjang\")\n",
    "print(\"Panjang\\t:\", p)\n",
    "print(\"Lebar\\t:\", l)\n",
    "print(\"Luas\\t:\", luas)\n"
   ]
  },
  {
   "cell_type": "markdown",
   "metadata": {},
   "source": [
    "## Membuat Paket \n",
    "Silakan perhatikan file **__init__.py** di ./Data.\n",
    "Kemudian isikan kode berikut ke dalam file **__init__.py**:\n",
    "\n",
    "![](./images/11_init.png)\n"
   ]
  },
  {
   "cell_type": "markdown",
   "metadata": {},
   "source": [
    "## Menggunakan Paket\n",
    "Buatlah kode seperti berikut:\n",
    "\n",
    "![](./images/11_Paket.png)\n",
    "\n",
    "Ubah variabel **sisi** dengan **tanggal kalian mengerjakan**."
   ]
  },
  {
   "cell_type": "code",
   "execution_count": 14,
   "metadata": {},
   "outputs": [
    {
     "ename": "AttributeError",
     "evalue": "module 'Data.Geometri2D' has no attribute 'LuasBujurSangkar'",
     "output_type": "error",
     "traceback": [
      "\u001b[1;31m---------------------------------------------------------------------------\u001b[0m",
      "\u001b[1;31mAttributeError\u001b[0m                            Traceback (most recent call last)",
      "\u001b[1;32mc:\\Users\\USER\\Praktikum Prokom\\I0321044-Fathin-Prokom\\Exercise-11\\11_Modul_Paket.ipynb Cell 12'\u001b[0m in \u001b[0;36m<cell line: 10>\u001b[1;34m()\u001b[0m\n\u001b[0;32m      <a href='vscode-notebook-cell:/c%3A/Users/USER/Praktikum%20Prokom/I0321044-Fathin-Prokom/Exercise-11/11_Modul_Paket.ipynb#ch0000011?line=7'>8</a>\u001b[0m     \u001b[39mprint\u001b[39m(\u001b[39m\"\u001b[39m\u001b[39mLuas\u001b[39m\u001b[39m\\t\u001b[39;00m\u001b[39m\\t\u001b[39;00m\u001b[39m: \u001b[39m\u001b[39m\"\u001b[39m ,luas)\n\u001b[0;32m     <a href='vscode-notebook-cell:/c%3A/Users/USER/Praktikum%20Prokom/I0321044-Fathin-Prokom/Exercise-11/11_Modul_Paket.ipynb#ch0000011?line=9'>10</a>\u001b[0m \u001b[39mif\u001b[39;00m \u001b[39m__name__\u001b[39m \u001b[39m==\u001b[39m \u001b[39m\"\u001b[39m\u001b[39m__main__\u001b[39m\u001b[39m\"\u001b[39m:\n\u001b[1;32m---> <a href='vscode-notebook-cell:/c%3A/Users/USER/Praktikum%20Prokom/I0321044-Fathin-Prokom/Exercise-11/11_Modul_Paket.ipynb#ch0000011?line=10'>11</a>\u001b[0m     main()\n",
      "\u001b[1;32mc:\\Users\\USER\\Praktikum Prokom\\I0321044-Fathin-Prokom\\Exercise-11\\11_Modul_Paket.ipynb Cell 12'\u001b[0m in \u001b[0;36mmain\u001b[1;34m()\u001b[0m\n\u001b[0;32m      <a href='vscode-notebook-cell:/c%3A/Users/USER/Praktikum%20Prokom/I0321044-Fathin-Prokom/Exercise-11/11_Modul_Paket.ipynb#ch0000011?line=2'>3</a>\u001b[0m \u001b[39mdef\u001b[39;00m \u001b[39mmain\u001b[39m():\n\u001b[0;32m      <a href='vscode-notebook-cell:/c%3A/Users/USER/Praktikum%20Prokom/I0321044-Fathin-Prokom/Exercise-11/11_Modul_Paket.ipynb#ch0000011?line=3'>4</a>\u001b[0m     sisi \u001b[39m=\u001b[39m \u001b[39m21\u001b[39m\n\u001b[1;32m----> <a href='vscode-notebook-cell:/c%3A/Users/USER/Praktikum%20Prokom/I0321044-Fathin-Prokom/Exercise-11/11_Modul_Paket.ipynb#ch0000011?line=4'>5</a>\u001b[0m     luas \u001b[39m=\u001b[39m Data\u001b[39m.\u001b[39;49mGeometri2D\u001b[39m.\u001b[39;49mLuasBujurSangkar(sisi)\n\u001b[0;32m      <a href='vscode-notebook-cell:/c%3A/Users/USER/Praktikum%20Prokom/I0321044-Fathin-Prokom/Exercise-11/11_Modul_Paket.ipynb#ch0000011?line=5'>6</a>\u001b[0m     \u001b[39mprint\u001b[39m(\u001b[39m\"\u001b[39m\u001b[39mBujur Sangkar\u001b[39m\u001b[39m\"\u001b[39m)\n\u001b[0;32m      <a href='vscode-notebook-cell:/c%3A/Users/USER/Praktikum%20Prokom/I0321044-Fathin-Prokom/Exercise-11/11_Modul_Paket.ipynb#ch0000011?line=6'>7</a>\u001b[0m     \u001b[39mprint\u001b[39m(\u001b[39m\"\u001b[39m\u001b[39mPanjang Sisi\u001b[39m\u001b[39m\\t\u001b[39;00m\u001b[39m: \u001b[39m\u001b[39m\"\u001b[39m, sisi)\n",
      "\u001b[1;31mAttributeError\u001b[0m: module 'Data.Geometri2D' has no attribute 'LuasBujurSangkar'"
     ]
    }
   ],
   "source": [
    "# Kerjakan di sini\n",
    "import Data.Geometri2D\n",
    "def main():\n",
    "    sisi = 21\n",
    "    luas = Data.Geometri2D.LuasBujurSangkar(sisi)\n",
    "    print(\"Bujur Sangkar\")\n",
    "    print(\"Panjang Sisi\\t: \", sisi)\n",
    "    print(\"Luas\\t\\t: \" ,luas)\n",
    "\n",
    "if __name__ == \"__main__\":\n",
    "    main()"
   ]
  },
  {
   "cell_type": "markdown",
   "metadata": {},
   "source": [
    "***\n",
    "<h1 align=\"center\">Well Done!!!</h1>\n",
    "\n",
    "***"
   ]
  }
 ],
 "metadata": {
  "interpreter": {
   "hash": "0c880bf50398c9e6ebbd48c247ea31cff5c6f8ce48b9cfb1b78e929d6cc40437"
  },
  "kernelspec": {
   "display_name": "Python 3.9.12 64-bit (windows store)",
   "language": "python",
   "name": "python3"
  },
  "language_info": {
   "codemirror_mode": {
    "name": "ipython",
    "version": 3
   },
   "file_extension": ".py",
   "mimetype": "text/x-python",
   "name": "python",
   "nbconvert_exporter": "python",
   "pygments_lexer": "ipython3",
   "version": "3.9.13"
  },
  "orig_nbformat": 4
 },
 "nbformat": 4,
 "nbformat_minor": 2
}
